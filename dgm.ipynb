{
 "cells": [
  {
   "cell_type": "code",
   "execution_count": 1,
   "metadata": {},
   "outputs": [
    {
     "name": "stdout",
     "output_type": "stream",
     "text": [
      "Size(width=1920, height=1080)\n",
      "Point(x=934, y=192)\n"
     ]
    }
   ],
   "source": [
    "import pyautogui\n",
    "\n",
    "# 현재 사용하는 모니터의 해상도 출력\n",
    "print(pyautogui.size())\n",
    "\n",
    "# 현재 마우스 커서의 위치 출력\n",
    "print(pyautogui.position())"
   ]
  },
  {
   "cell_type": "code",
   "execution_count": 4,
   "metadata": {},
   "outputs": [],
   "source": [
    "# 절대 좌표로 이동\n",
    "\n",
    "pyautogui.moveTo(100, 100)                 # 100, 100 위치로 즉시 이동\n",
    "pyautogui.moveTo(200, 200, duration=0.5)   # 200, 200 위치로 0.5초간 이동\n",
    "\n",
    "\n",
    "# 상대 좌표로 이동\n",
    "\n",
    "pyautogui.move(100, 100, duration=1)    # 현재 위치 기준으로 100, 100만큼 1초간 이동\n",
    "\n"
   ]
  },
  {
   "cell_type": "code",
   "execution_count": 6,
   "metadata": {},
   "outputs": [],
   "source": [
    "import pyautogui\n",
    "import time\n",
    "\n",
    "time.sleep(3)\n",
    "\n",
    "start_x = 1325\n",
    "start_y = 633\n",
    "\n",
    "num_steps = 4\n",
    "distance_increment = 2\n",
    "\n",
    "distance = distance_increment\n",
    "directions = [(1, 0), (0, 1), (-1, 0), (0, -1)]\n",
    "\n",
    "pyautogui.moveTo(start_x, start_y)\n",
    "\n",
    "for step in range(1, num_steps + 1):\n",
    "    for direction in directions:\n",
    "        for _ in range(step):\n",
    "            start_x += direction[0] * distance\n",
    "            start_y += direction[1] * distance\n",
    "            pyautogui.dragTo(start_x, start_y, duration=0.1)\n",
    "            \n",
    "                distance += distance_increment\n"
   ]
  },
  {
   "cell_type": "code",
   "execution_count": 4,
   "metadata": {},
   "outputs": [],
   "source": [
    "pyautogui.mouseInfo()"
   ]
  },
  {
   "cell_type": "code",
   "execution_count": 7,
   "metadata": {},
   "outputs": [],
   "source": [
    "import pyautogui\n",
    "img_capture = pyautogui.locateOnScreen(\"c.png\", confidence=0.7)\n",
    "pyautogui.moveTo(img_capture)"
   ]
  },
  {
   "cell_type": "code",
   "execution_count": 3,
   "metadata": {},
   "outputs": [
    {
     "name": "stdout",
     "output_type": "stream",
     "text": [
      "TensorFlow version: 2.16.1\n"
     ]
    }
   ],
   "source": [
    "import tensorflow as tf\n",
    "print(\"TensorFlow version:\", tf.__version__)"
   ]
  }
 ],
 "metadata": {
  "kernelspec": {
   "display_name": "Python 3",
   "language": "python",
   "name": "python3"
  },
  "language_info": {
   "codemirror_mode": {
    "name": "ipython",
    "version": 3
   },
   "file_extension": ".py",
   "mimetype": "text/x-python",
   "name": "python",
   "nbconvert_exporter": "python",
   "pygments_lexer": "ipython3",
   "version": "3.10.11"
  }
 },
 "nbformat": 4,
 "nbformat_minor": 2
}
